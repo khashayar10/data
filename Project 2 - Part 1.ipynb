{
 "cells": [
  {
   "cell_type": "markdown",
   "metadata": {},
   "source": [
    "<font face=\"B Mitra\" size=4>\n",
    "<div dir=rtl align=center>\n",
    "<br>\n",
    "<img src=\"https://aut.ac.ir/templates/tmpl_modern01/images/logo_fa.png\" alt=\"Amirkabir University Logo\" width=\"100\">\n",
    "<br>\n",
    "<font size=6>\n",
    "<b>پروژه دوم داده کاوی (بخش اول)</b>\n",
    "<br>\n",
    "<font size=5> استاد درس: دکتر فاطمه شاکری\n",
    "<br>\n",
    "<font size=5> طراحان پروژه: مهدی رجالی، مهدی غیاثی، سینا ارزبین\n",
    "<br>\n",
    "<font size=4> پاییز ۱۴۰۳\n",
    "<hr>\n",
    "</div>\n",
    "</font>"
   ]
  },
  {
   "cell_type": "markdown",
   "metadata": {},
   "source": [
    "<font face=\"B Nazanin\">\n",
    "<div dir=rtl>\n",
    "<p align=\"justify\">\n",
    "<font size=5><font color='#eb4034'>\n",
    "توجه داشته باشید علاوه بر پیاده سازی خواسته شده، توضیحات لازم در محل تعریف شده را بیان کنید.\n",
    "</p>\n",
    "</font>\n",
    "</div>\n",
    "</font>"
   ]
  },
  {
   "cell_type": "markdown",
   "metadata": {},
   "source": [
    "<div dir=rtl>\n",
    "<h2>\n",
    "<font face=\"B Nazanin\" color=\"#0099cc\">\n",
    "بارگذاری کتابخانه های مورد نیاز"
   ]
  },
  {
   "cell_type": "code",
   "execution_count": null,
   "metadata": {},
   "outputs": [],
   "source": [
    "import pandas as pd\n",
    "import numpy as np\n",
    "import warnings\n",
    "import category_encoders as ce\n",
    "from sklearn.metrics import r2_score\n",
    "from sklearn.model_selection import train_test_split\n",
    "from sklearn.ensemble import RandomForestRegressor\n",
    "from catboost import CatBoostRegressor, Pool\n",
    "import matplotlib.pyplot as plt\n",
    "import seaborn as sns\n",
    "\n",
    "warnings.filterwarnings(\"ignore\")"
   ]
  },
  {
   "cell_type": "markdown",
   "metadata": {},
   "source": [
    "<div dir=rtl>\n",
    "<h2>\n",
    "<font face=\"B Nazanin\" color=\"#0099cc\">\n",
    "بارگذاری مجموعه داده"
   ]
  },
  {
   "cell_type": "code",
   "execution_count": 2,
   "metadata": {},
   "outputs": [],
   "source": [
    "df = pd.read_csv('GDSC Dataset.csv')"
   ]
  },
  {
   "cell_type": "markdown",
   "metadata": {},
   "source": [
    "<div dir=rtl>\n",
    "<h2>\n",
    "<font face=\"B Nazanin\" color=\"#0099cc\">\n",
    "جداسازی مجموعه داده‌های Test ،Train و Validation"
   ]
  },
  {
   "cell_type": "markdown",
   "metadata": {},
   "source": [
    "<div dir=rtl>\n",
    "<font face=\"B Nazanin\" size=4>\n",
    "با نسبت‌های زیر داده‌ها را به صورت تصادفی به سه دسته تقسیم کنید:\n",
    "\n",
    "- 70٪ برای داده‌های آموزش\n",
    "- 10٪ برای داده‌های ارزیابی\n",
    "- ۲۰٪ برای داده‌های تست\n",
    "</font>\n",
    "</p>"
   ]
  },
  {
   "cell_type": "code",
   "execution_count": null,
   "metadata": {},
   "outputs": [],
   "source": [
    "df_train, df_test = train_test_split(df, test_size=0.2, random_state=42)\n",
    "df_train, df_val = train_test_split(df_train, test_size=0.125, random_state=42)\n",
    "\n",
    "print(\"Train set size:\", len(df_train))\n",
    "print(\"Validation set size:\", len(df_val))\n",
    "print(\"Test set size:\", len(df_test))"
   ]
  },
  {
   "cell_type": "markdown",
   "metadata": {},
   "source": [
    "<div dir=rtl>\n",
    "<h2>\n",
    "<font face=\"B Nazanin\" color=\"#0099cc\">\n",
    "مدیریت مقادیر گم‌شده"
   ]
  },
  {
   "cell_type": "markdown",
   "metadata": {},
   "source": [
    "<div dir=rtl>\n",
    "<font face=\"B Nazanin\" size=4>\n",
    "توابع مورد نیاز برای مدیریت مقادیر گم‌شده را مطابق با توضیحات پیاده‌سازی کنید.\n",
    "</font>\n",
    "</p>"
   ]
  },
  {
   "cell_type": "markdown",
   "metadata": {},
   "source": [
    "<div dir=rtl>\n",
    "<font face=\"B Nazanin\" size=4>\n",
    "یکی از راه‌های مناسب برای پر‌کردن مقادیر از دست‌رفته، استفاده از ویژگی‌های مرتبط است. \n",
    "برای مثال، ما برای پر‌کردن مقادیر از دست‌رفته در ستون <code>Cancer Type</code> که مربوط به نوع سرطان است، می‌توانیم\n",
    "به بافت آن نمونه دقت کرده و حدس بهتری در راستای پرکردن این مقدار از دست‌رفته بزنیم.\n",
    "\n",
    "این کار، یعنی به کارگیری ماهیت و دامنه داده‌ها در تصمیماتی که در فرایند‌های مختلف یادگیری ماشین می‌گیریم، به <b>تزریق اطلاعات دامنه‌ای</b> (Domain Knowledge Injection)\n",
    "معروف است.\n",
    "\n",
    "در ادامه، قسمتی از کد مورد نظر برای شما آورده‌شده است و توضیحاتی در راستای تکمیل آن برای شما آورده‌ایم.\n",
    "</font>\n",
    "</p>"
   ]
  },
  {
   "cell_type": "code",
   "execution_count": 4,
   "metadata": {},
   "outputs": [],
   "source": [
    "train_imputation_data = {}"
   ]
  },
  {
   "cell_type": "code",
   "execution_count": 5,
   "metadata": {},
   "outputs": [],
   "source": [
    "def get_mode(group, column, calculate_mode, default_val=np.nan):\n",
    "    if calculate_mode:\n",
    "        mode_val = group.mode()\n",
    "        train_imputation_data[f'{group.name}_{column}'] = mode_val[0] if not mode_val.empty else default_val\n",
    "    \n",
    "    return train_imputation_data.get(f'{group.name}_{column}', default_val)"
   ]
  },
  {
   "cell_type": "markdown",
   "metadata": {},
   "source": [
    "<div dir=rtl>\n",
    "<font face=\"B Nazanin\" size=4>\n",
    "در قطعه کد زیر، ما برای پر‌کردن مقادیر از دست‌رفته در ستون <code>Cancer Type</code>، ابتدا نمونه‌ها را بر حسب دارو و بافتشان\n",
    "گروه‌گروه کرده‌ایم، و سپس برای هر مقدار از دسته‌رفته، رایج‌ترین نوع سرطان در آن گروه را قرار داده‌ایم.\n",
    "\n",
    "در ادامه شما باید مقادیر خالی دیگر ویژگی‌ها را به نحو زیر پر کنید:\n",
    "\n",
    "۱. مقادیر از دست‌رفتهٔ ویژگی‌های <code>['General tissue description', 'Specific tissue description']</code> را با گروه‌بندی بر حسب دارو و نوع سرطان پر کنید.\n",
    "\n",
    "۲. مقادیر از دست‌رفتهٔ ویژگی‌های <code>['Biological target', 'Target pathway']</code> را با گروه‌بندی بر حسب دارو با مد پر کنید.\n",
    "\n",
    "۳. مقادیر از دسته‌رفتهٔ ویژگی‌های <code>['Microsatellite instability Status', 'Screen Medium', 'Growth Properties']</code> را با گروه‌بندی بر حسب دارو و نوع کلی بافت پر کنید.\n",
    "\n",
    "۴. به طور مشابه مورد قبل، مقادیر از دست‌رفتهٔ ویژگی‌های <code>['CNA', 'Gene Expression', 'Methylation']</code> را پر کنید.\n",
    "\n",
    "۵. در نهایت، تمامی مقادیر از دست‌رفتهٔ باقی‌مانده در <code>DataFrame</code> را با مقدار <code>'Unknown'</code> پر کنید.\n",
    "\n",
    "همچنین به الگوی موجود حول ذخیره‌سازی نتایج روی مجموعه دادهٔ آموزشی در این قسمت دقت کنید.\n",
    "این کار جهت پیش‌گیری از نشت داده‌ها می‌باشد، زیرا ما می‌بایست برای پر‌کردن داده‌های اعتبارسنجی و آزمایشی تنها از مقادیر از پیش‌محاسبه‌شده از مجموعهٔ آموزشی استفاده کنیم.\n",
    "\n",
    "این الگو در قسمت رمزگذاری (Encoding) نیز مهم خواهد بود.\n",
    "</font>\n",
    "</p>"
   ]
  },
  {
   "cell_type": "code",
   "execution_count": null,
   "metadata": {},
   "outputs": [],
   "source": [
    "def impute_missing_values(df: pd.DataFrame, train_set: bool):\n",
    "    df = df.copy()\n",
    "    \n",
    "    # Imputation of 'Cancer Type' column\n",
    "    df['Cancer Type'] = df.groupby(by=['Drug', 'Specific tissue description'], dropna=False)['Cancer Type'].transform(\n",
    "                            lambda group: group.fillna(get_mode(group, column='Cancer Type', calculate_mode=train_set))\n",
    "                        )\n",
    "\n",
    "    df['Cancer Type'] = df.groupby(by=['Drug', 'General tissue description'], dropna=False)['Cancer Type'].transform(\n",
    "                            lambda group: group.fillna(get_mode(group, column='Cancer Type', calculate_mode=train_set))\n",
    "                        )\n",
    "    \n",
    "    # FILL HERE\n",
    "\n",
    "    return df"
   ]
  },
  {
   "cell_type": "code",
   "execution_count": 7,
   "metadata": {},
   "outputs": [],
   "source": [
    "df_train = impute_missing_values(df=df_train, train_set=True)\n",
    "df_val = impute_missing_values(df=df_val, train_set=False)\n",
    "df_test = impute_missing_values(df=df_test, train_set=False)"
   ]
  },
  {
   "cell_type": "markdown",
   "metadata": {},
   "source": [
    "<div dir=rtl>\n",
    "<h2>\n",
    "<font face=\"B Nazanin\" color=\"#0099cc\">\n",
    "آموزش مدل CatBoost:"
   ]
  },
  {
   "cell_type": "markdown",
   "metadata": {},
   "source": [
    "<div dir=rtl>\n",
    "<font face=\"B Nazanin\" size=4>\n",
    "مدل CatBoost را با مطالعهٔ داک این پکیج و مطالب موجود در اینترنت، آموزش دهید\n",
    "و پیش‌بینی‌های مدل روی هر یک از مجموعه‌های آموزشی، اعتبارسنجی و آزمایشی را تولید و ذخیره کنید.\n",
    "\n",
    "همچنین در مورد الگوریتم CatBoost مطالعه کنید و به سوالات زیر حول نحوهٔ کارکرد آن پاسخ دهید:\n",
    "\n",
    "۱. دلیل کارکرد مستقیم این الگوریتم با داده‌های رسته‌ای، وجود یک رمز‌گذاری داخل در این الگوریتم است. در مورد شیوه‌های رمز‌گذاری داخلی در این الگوریتم که یکی One Hot Encoding و دیگری Ordered Target Encoding است مطالعه کنید. توضیح دهید که مدل چگونه میان رمزگذاری با هر یک از این روش‌ها تصمیم‌گیری می‌کند.\n",
    "\n",
    "۲. تفاوت Ordered Target Encoding با Target Encoding ساده که در جزوه مطرح شده است چیست؟\n",
    "این نوع از رمز‌گذاری چه مزیتی دارد؟\n",
    "\n",
    "۳. یکی از مشکلات Target Encoding این بود که اگر یک ویژگی رابطهٔ یکنواخت ضعیفی با متغیر هدف داشت، اطلاعات این ویژگی در رمز گذاری از بین می‌رفت.\n",
    "الگوریتم CatBoost چگونه تلاش در حل این مسئله می‌کند؟\n",
    "</font>\n",
    "</p>"
   ]
  },
  {
   "cell_type": "code",
   "execution_count": null,
   "metadata": {},
   "outputs": [],
   "source": [
    "features = ...\n",
    "target = ...\n",
    "\n",
    "X_train = ...\n",
    "y_train = ...\n",
    "\n",
    "# Also for validation and test sets"
   ]
  },
  {
   "cell_type": "code",
   "execution_count": null,
   "metadata": {},
   "outputs": [],
   "source": [
    "train_pool = Pool(...)\n",
    "val_pool = Pool(...)\n",
    "\n",
    "catboost_model = CatBoostRegressor(\n",
    "    ...\n",
    "    # task_type=\"GPU\", # Uncomment for faster training if a dedicated GPU is available\n",
    "    # devices='0'\n",
    ")\n",
    "\n",
    "catboost_model.fit(\n",
    "    ...\n",
    ")"
   ]
  },
  {
   "cell_type": "code",
   "execution_count": null,
   "metadata": {},
   "outputs": [],
   "source": [
    "train_predictions_CB = ...\n",
    "val_predictions_CB = ...\n",
    "test_predictions_CB = ..."
   ]
  },
  {
   "cell_type": "markdown",
   "metadata": {},
   "source": [
    "<font face=\"B Nazanin\">\n",
    "<div dir=rtl>\n",
    "<p align=\"justify\">\n",
    "<font size=4>\n",
    "<b> <font color='#eb4034'> توضیحات پاسخ: </font></b>  لطفا اینجا بنویسید\n",
    "</p>\n",
    "</font>\n",
    "</div>\n",
    "</font>\n",
    "<hr>"
   ]
  },
  {
   "cell_type": "markdown",
   "metadata": {},
   "source": [
    "<div dir=rtl>\n",
    "<h2>\n",
    "<font face=\"B Nazanin\" color=\"#0099cc\">\n",
    "انکدینگ داده‌ها"
   ]
  },
  {
   "cell_type": "markdown",
   "metadata": {},
   "source": [
    "<div dir=rtl>\n",
    "<font face=\"B Nazanin\" size=4>\n",
    "تابع مورد نیاز برای انکدینگ داده‌ها را مطابق با توضیحات پیاده‌سازی کنید.\n",
    "</font>\n",
    "</p>"
   ]
  },
  {
   "cell_type": "markdown",
   "metadata": {},
   "source": [
    "<div dir=rtl>\n",
    "<font face=\"B Nazanin\" size=4>\n",
    "پیش از آموزش مدل Random Forest، می‌بایست ویژگی‌های رسته‌ای را رمزگذاری کنیم.\n",
    "\n",
    "برای این کار با توجه به مطالب تدریس‌شده، نحوهٔ رمز‌گذاری برای هر ستون را مشخص کرده و آنها را رمز‌گذاری کنید.\n",
    "\n",
    "برای این کار از پکیج <code>category_encoders</code> استفاده کنید (داک مربوط به این پکیج را مطالعه کنید).\n",
    "دقت کنید که مشابه بخش پر‌کردن مقادیر از دست‌رفته، می‌بایست رمز‌گذار‌ها روی داده‌های آموزشی تنظیم‌شده و سپس داده‌های اعتبارسنجی و آزمایشی با استفاده از رمزگذار‌های از پیش‌تنظیم‌شده رمز‌گذاری شوند.\n",
    "برای دیدن چگونگی این کار، توابع <code>fit</code>، <code>fit_transform</code> و <code>transform</code> که برای هر رمز‌گذار دلخواه موجود است را بررسی کنید.\n",
    "\n",
    "تابعی که در زیر برای شما آورده‌شده است، کاملاً دلخواه است. مقادیر ورودی و بدنهٔ آن را تغییر دهید.\n",
    "</font>\n",
    "</p>"
   ]
  },
  {
   "cell_type": "code",
   "execution_count": null,
   "metadata": {},
   "outputs": [],
   "source": [
    "def encode_categorical_features(*args, **kwargs):\n",
    "    \n",
    "    ..."
   ]
  },
  {
   "cell_type": "code",
   "execution_count": null,
   "metadata": {},
   "outputs": [],
   "source": [
    "df_train_encoded, encoders = encode_categorical_features(...)\n",
    "\n",
    "df_val_encoded = encode_categorical_features(...)\n",
    "\n",
    "df_test_encoded = encode_categorical_features(...)"
   ]
  },
  {
   "cell_type": "markdown",
   "metadata": {},
   "source": [
    "<div dir=rtl>\n",
    "<h2>\n",
    "<font face=\"B Nazanin\" color=\"#0099cc\">\n",
    "آموزش مدل Random Forest:"
   ]
  },
  {
   "cell_type": "markdown",
   "metadata": {},
   "source": [
    "<div dir=rtl>\n",
    "<font face=\"B Nazanin\" size=4>\n",
    "مدل Random Forest را با داده‌های رمز‌گذاری‌شده آموزش دهید و پیش‌بینی‌های مدل روی هر یک از مجموعه‌های آموزشی، اعتبارسنجی و آزمایشی را تولید و ذخیره کنید.\n",
    "</font>\n",
    "</p>"
   ]
  },
  {
   "cell_type": "code",
   "execution_count": null,
   "metadata": {},
   "outputs": [],
   "source": [
    "features = ...\n",
    "target = ...\n",
    "\n",
    "X_train_encoded = ...\n",
    "y_train_encoded = ...\n",
    "\n",
    "# Also for validation and test sets"
   ]
  },
  {
   "cell_type": "code",
   "execution_count": null,
   "metadata": {},
   "outputs": [],
   "source": [
    "rf_model = RandomForestRegressor(...)\n",
    "rf_model.fit(...)"
   ]
  },
  {
   "cell_type": "code",
   "execution_count": null,
   "metadata": {},
   "outputs": [],
   "source": [
    "train_predictions_RF = ...\n",
    "val_predictions_RF = ...\n",
    "test_predictions_RF = ..."
   ]
  },
  {
   "cell_type": "markdown",
   "metadata": {},
   "source": [
    "<div dir=rtl>\n",
    "<h2>\n",
    "<font face=\"B Nazanin\" color=\"#0099cc\">\n",
    "ارزیابی مدل‌ها:"
   ]
  },
  {
   "cell_type": "markdown",
   "metadata": {},
   "source": [
    "<div dir=rtl>\n",
    "<font face=\"B Nazanin\" size=4>\n",
    "<code>R2 Score</code> را برای هر مدل و بر روی هر کدام از مجموع داده‌ها محاسبه کنید.\n",
    "</font>\n",
    "</p>"
   ]
  },
  {
   "cell_type": "code",
   "execution_count": null,
   "metadata": {},
   "outputs": [],
   "source": [
    "..."
   ]
  },
  {
   "cell_type": "markdown",
   "metadata": {},
   "source": [
    "<div dir=rtl>\n",
    "<font face=\"B Nazanin\" size=4>\n",
    "این معیار نشان دهنده چه چیزی است؟ مقادیر آن در هر بازه چه معنایی دارد؟\n",
    "</font>\n",
    "</p>\n"
   ]
  },
  {
   "cell_type": "markdown",
   "metadata": {},
   "source": [
    "<font face=\"B Nazanin\">\n",
    "<div dir=rtl>\n",
    "<p align=\"justify\">\n",
    "<font size=4>\n",
    "<b> <font color='#eb4034'> توضیحات پاسخ: </font></b>  لطفا اینجا بنویسید\n",
    "</p>\n",
    "</font>\n",
    "</div>\n",
    "</font>\n",
    "<hr>"
   ]
  },
  {
   "cell_type": "markdown",
   "metadata": {},
   "source": [
    "<div dir=rtl>\n",
    "<font face=\"B Nazanin\" size=4>\n",
    "نمودار Barplot را برای Feature Importance های هر دو مدل رسم کنید. از این نمودار در بخش بعدی استفاده خواهیم کرد.\n",
    "</font>\n",
    "</p>"
   ]
  },
  {
   "cell_type": "code",
   "execution_count": null,
   "metadata": {},
   "outputs": [],
   "source": [
    "..."
   ]
  }
 ],
 "metadata": {
  "kernelspec": {
   "display_name": "envr",
   "language": "python",
   "name": "python3"
  },
  "language_info": {
   "codemirror_mode": {
    "name": "ipython",
    "version": 3
   },
   "file_extension": ".py",
   "mimetype": "text/x-python",
   "name": "python",
   "nbconvert_exporter": "python",
   "pygments_lexer": "ipython3",
   "version": "3.9.13"
  }
 },
 "nbformat": 4,
 "nbformat_minor": 2
}
